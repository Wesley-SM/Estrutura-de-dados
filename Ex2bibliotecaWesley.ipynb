{
  "nbformat": 4,
  "nbformat_minor": 0,
  "metadata": {
    "colab": {
      "provenance": []
    },
    "kernelspec": {
      "name": "python3",
      "display_name": "Python 3"
    },
    "language_info": {
      "name": "python"
    }
  },
  "cells": [
    {
      "cell_type": "code",
      "execution_count": 5,
      "metadata": {
        "colab": {
          "base_uri": "https://localhost:8080/",
          "height": 222
        },
        "id": "09QFPr8X8sDp",
        "outputId": "b3a43ea5-522a-49ba-a02b-e1a760ac660f"
      },
      "outputs": [
        {
          "output_type": "error",
          "ename": "NameError",
          "evalue": "name 'Livro' is not defined",
          "traceback": [
            "\u001b[0;31m---------------------------------------------------------------------------\u001b[0m",
            "\u001b[0;31mNameError\u001b[0m                                 Traceback (most recent call last)",
            "\u001b[0;32m<ipython-input-5-6403e56d58e6>\u001b[0m in \u001b[0;36m<cell line: 66>\u001b[0;34m()\u001b[0m\n\u001b[1;32m     64\u001b[0m \u001b[0musuario4\u001b[0m \u001b[0;34m=\u001b[0m \u001b[0mUsuario\u001b[0m\u001b[0;34m(\u001b[0m\u001b[0;34m\"Thyerri\"\u001b[0m\u001b[0;34m)\u001b[0m\u001b[0;34m\u001b[0m\u001b[0;34m\u001b[0m\u001b[0m\n\u001b[1;32m     65\u001b[0m \u001b[0;34m\u001b[0m\u001b[0m\n\u001b[0;32m---> 66\u001b[0;31m \u001b[0mlivro1\u001b[0m \u001b[0;34m=\u001b[0m \u001b[0mLivro\u001b[0m\u001b[0;34m(\u001b[0m\u001b[0;34m\"Ao Farol\"\u001b[0m\u001b[0;34m,\u001b[0m\u001b[0;34m\"1927\"\u001b[0m\u001b[0;34m)\u001b[0m\u001b[0;34m\u001b[0m\u001b[0;34m\u001b[0m\u001b[0m\n\u001b[0m\u001b[1;32m     67\u001b[0m \u001b[0mlivro2\u001b[0m \u001b[0;34m=\u001b[0m \u001b[0mLivro\u001b[0m\u001b[0;34m(\u001b[0m\u001b[0;34m\"Moby Dick (1851)\"\u001b[0m\u001b[0;34m,\u001b[0m \u001b[0;34m\"Herman Melville\"\u001b[0m\u001b[0;34m)\u001b[0m\u001b[0;34m\u001b[0m\u001b[0;34m\u001b[0m\u001b[0m\n\u001b[1;32m     68\u001b[0m \u001b[0mlivro3\u001b[0m \u001b[0;34m=\u001b[0m \u001b[0mLivro\u001b[0m\u001b[0;34m(\u001b[0m\u001b[0;34m\"Dom Casmurro\"\u001b[0m\u001b[0;34m,\u001b[0m \u001b[0;34m\"Machado de Assis\"\u001b[0m\u001b[0;34m)\u001b[0m\u001b[0;34m\u001b[0m\u001b[0;34m\u001b[0m\u001b[0m\n",
            "\u001b[0;31mNameError\u001b[0m: name 'Livro' is not defined"
          ]
        }
      ],
      "source": [
        "class livro:\n",
        "  def __init__(self, titulo, autor,):\n",
        "    self.titulo=titulo\n",
        "    self.autor=autor\n",
        "    self.disponivel = True\n",
        "  def __str__(self):\n",
        "        return f\"{self.titulo} por {self.autor} ({'Disponível' if self.disponivel else 'Emprestado'})\"\n",
        "\n",
        "  def emprestar(self):\n",
        "        if self.disponivel:\n",
        "            self.disponivel = False\n",
        "            return True\n",
        "        return False\n",
        "\n",
        "  def devolver(self):\n",
        "        self.disponivel = True\n",
        "\n",
        "\n",
        "#******************************************\n",
        "class Usuario:\n",
        "  def __init__(self, nome,):\n",
        "    self.nome=nome\n",
        "    self.livrosemprestados=[]\n",
        "  def pegar_emprestado(self, livro):\n",
        "        if livro.emprestar():\n",
        "            self.livros_emprestados.append(livro)\n",
        "            print(f\"{self.nome} pegou emprestado '{livro.titulo}'.\")\n",
        "        else:\n",
        "            print(f\"'{livro.titulo}' não está disponível para empréstimo.\")\n",
        "\n",
        "  def devolver_livro(self, livro):\n",
        "        if livro in self.livros_emprestados:\n",
        "            livro.devolver()\n",
        "            self.livros_emprestados.remove(livro)\n",
        "            print(f\"{self.nome} devolveu '{livro.titulo}'.\")\n",
        "        else:\n",
        "            print(f\"{self.nome} não tem '{livro.titulo}' emprestado.\")\n",
        "\n",
        "  def __str__(self):\n",
        "        return f\"Usuário: {self.nome}, Livros emprestados: {[livro.titulo for livro in self.livros_emprestados]}\"\n",
        "\n",
        "\n",
        "        #*****************************************************\n",
        "class Biblioteca:\n",
        "  def __init__(self, nome):\n",
        "    self.nome=nome\n",
        "    self.livros=[]\n",
        "  def listar_livros_disponiveis(self):\n",
        "        print(\"Livros disponíveis na biblioteca:\")\n",
        "        for livro in self.livros:\n",
        "            if livro.disponivel:\n",
        "                print(livro)\n",
        "\n",
        "  def emprestar_livro(self, livro, usuario):\n",
        "        usuario.pegar_emprestado(livro)\n",
        "\n",
        "  def devolver_livro(self, livro, usuario):\n",
        "        usuario.devolver_livro(livro)\n",
        "\n",
        "\n",
        "usuario1 = Usuario(\"Luiz\")\n",
        "usuario2 = Usuario(\"Lucas\")\n",
        "usuario3 = Usuario(\"Wesley\")\n",
        "usuario4 = Usuario(\"Thyerri\")\n",
        "\n",
        "livro1 = Livro(\"Ao Farol\",\"1927\")\n",
        "livro2 = Livro(\"Moby Dick (1851)\", \"Herman Melville\")\n",
        "livro3 = Livro(\"Dom Casmurro\", \"Machado de Assis\")\n",
        "livro4 = Livro(\"Harry Potter e a Pedra Filosofal\", \"J.K. Rowling.\")\n",
        "\n",
        "biblioteca = Biblioteca()\n",
        "biblioteca.adicionar_livro(livro1)\n",
        "biblioteca.adicionar_livro(livro2)\n",
        "biblioteca.adicionar_livro(livro3)\n",
        "biblioteca.adicionar_livro(livro4)\n",
        "\n",
        "# Exibindo livros disponíveis\n",
        "biblioteca.listar_livros_disponiveis()\n",
        "\n",
        "# Emprestando livros\n",
        "biblioteca.emprestar_livro(livro2, usuario4)\n",
        "biblioteca.emprestar_livro(livro4, usuario3)\n",
        "\n",
        "# Exibindo livros disponíveis após empréstimos\n",
        "biblioteca.listar_livros_disponiveis()\n",
        "\n",
        "# Devolvendo livros\n",
        "biblioteca.devolver_livro(livro4, usuario3)\n",
        "\n",
        "# Exibindo livros disponíveis após devolução\n",
        "biblioteca.listar_livros_disponiveis()\n",
        "\n",
        "\n"
      ]
    }
  ]
}